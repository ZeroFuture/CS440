{
 "cells": [
  {
   "cell_type": "code",
   "execution_count": 1,
   "metadata": {},
   "outputs": [],
   "source": [
    "import copy\n",
    "import numpy as np\n",
    "import numpy.linalg as la\n",
    "import time\n",
    "from collections import deque\n",
    "from operator import itemgetter\n",
    "import sys\n",
    "import queue as Q"
   ]
  },
  {
   "cell_type": "code",
   "execution_count": 2,
   "metadata": {},
   "outputs": [],
   "source": [
    "mediumMaze = []\n",
    "bigMaze = []\n",
    "openMaze = []\n",
    "testMaze = []\n",
    "mediumSearch = []\n",
    "smallSearch = []\n",
    "tinySearch = []"
   ]
  },
  {
   "cell_type": "code",
   "execution_count": 4,
   "metadata": {},
   "outputs": [
    {
     "data": {
      "text/plain": [
       "['%%%%%%%%%%%%%%%%%%%%%%%%%%%%%%%%%%%%%',\n",
       " '%                     %P            %',\n",
       " '%                     %             %',\n",
       " '%                     %             %',\n",
       " '%                     %             %',\n",
       " '%                     %             %',\n",
       " '%                     %%%%%%%%      %',\n",
       " '%                            %      %',\n",
       " '%                            %      %',\n",
       " '%                            %      %',\n",
       " '%                            %      %',\n",
       " '%                            %      %',\n",
       " '%      %%%%%%%%%%%%%%%%%            %',\n",
       " '%      %                            %',\n",
       " '%      %                            %',\n",
       " '%      %                            %',\n",
       " '%      %                            %',\n",
       " '%      %%%%                         %',\n",
       " '%        .%                         %',\n",
       " '%%%%%%%%%%%%%%%%%%%%%%%%%%%%%%%%%%%%%']"
      ]
     },
     "execution_count": 4,
     "metadata": {},
     "output_type": "execute_result"
    }
   ],
   "source": [
    "with open(\"openMaze.txt\") as f:\n",
    "    for line in f:\n",
    "        openMaze.append(line.rstrip())\n",
    "openMaze"
   ]
  },
  {
   "cell_type": "code",
   "execution_count": 5,
   "metadata": {},
   "outputs": [
    {
     "data": {
      "text/plain": [
       "['%%%%%%%%%%%%%%%%%%%%%%%%%%%%%%%%%%%%%%%%%%%%%%%%%%%%%%%%%%%%%',\n",
       " '%P    %       %             %         %     %           %   %',\n",
       " '%%% %%% % %%%%% %%%%% %%%%% %%% %%%%%%% % %%% % %%%%%%% % %%%',\n",
       " '%   %         %   % %   % %   %         %   % %     % % %   %',\n",
       " '% %%% %%% %%% %%% % %%% % %%% % %%%%%% %%%% % %%%%% % % %%% %',\n",
       " '% %   % %   % %   %   % %                 % %   % % %       %',\n",
       " '%   %%% % % % % % % % % %%% % %%%%%%% %%% % %%% % % %%%%%%% %',\n",
       " '% %   %   % %   %   % %   % %     %   %   %     % %   %   % %',\n",
       " '% %%%%%%% % % %%% %%% %%% % %%% %%% % % %%%%%%%%% %%% % % % %',\n",
       " '%   %   % %       % % %   %   % %   % % %     %     %   % % %',\n",
       " '% % %%% % %%% %%%%% % % %%%%% % % %%% % % %%% %%%%% %%%%% %%%',\n",
       " '% %   % %   %         % %   % %     %   % % %           %   %',\n",
       " '% %%%%% %%%%% %%%%% %%% % % % %%%%%%%%% % % %%% %%% %%% %%% %',\n",
       " '%     %       %         % % %         %   %     %     %   % %',\n",
       " '% %%% %%% %%%%% %%%%% % %%% %%% %%%%% %%%%%% %%%% %%% %%% % %',\n",
       " '%   %     %     %   % %         % % %   %     %   %     % % %',\n",
       " '% % %%% %%% %%% %%% % %%% %%%% %% % %%% % %%% % %%% %%% %%% %',\n",
       " '% %   %   %       %       %       %   %   % % % %     %   % %',\n",
       " '% % %%% % %%%% %% %%%%%%%%% %%%%% %%% % %%% % % % % %%%%% % %',\n",
       " '% %     %   %     %       %   %       %     %   % % %   % % %',\n",
       " '% %%%% %% % % %%%%% %%%%% %%% % %%%% %% %%% %% %% %%% % % % %',\n",
       " '%         % %           %     %           %           % %  .%',\n",
       " '%%%%%%%%%%%%%%%%%%%%%%%%%%%%%%%%%%%%%%%%%%%%%%%%%%%%%%%%%%%%%']"
      ]
     },
     "execution_count": 5,
     "metadata": {},
     "output_type": "execute_result"
    }
   ],
   "source": [
    "with open(\"mediumMaze.txt\") as f:\n",
    "    for line in f:\n",
    "        mediumMaze.append(line.rstrip())\n",
    "mediumMaze"
   ]
  },
  {
   "cell_type": "code",
   "execution_count": 6,
   "metadata": {},
   "outputs": [
    {
     "data": {
      "text/plain": [
       "['%%%%%%%%%%%%%%%%%%%%%%%%%%%%%%%%%%%%%%%%%%%%%%%%%%%%%%%%%%%%%%%%%%%%%%%%%%%%%%%%%',\n",
       " '% %           %                       %   %     %       %   %               %  .%',\n",
       " '% % %%% %%% %%% %% %%%%%%%%%% %%%%%%% %%% % %%% % % %%% % % % %%%%% %%% %%%%% % %',\n",
       " '%   %     %   % %   %       %   %   %   % % %   % % %     % %     % % % %     % %',\n",
       " '% %%%%    %%% % %%% % % %%% %%% % % %%% % % % %%% % %%%%% % %     % % % % %%%%% %',\n",
       " '%         %   %   %   % % % %   % %       %     %       % % % %   % %   % %     %',\n",
       " '%%% %% %% % %%%%% % %%% % % %  %% % %%%% %% %%% % %%%%% % % % % %%% % %%% % %%% %',\n",
       " '%       % % %   % % % % %   %     % %       % %   %   %   %     %   % %   % % % %',\n",
       " '% %%%%%%% % % % % % % % %%% % %%%%% % %%%%%%% %%%%%%% %%%%%%% %%% %%% % %%% % % %',\n",
       " '%     %   %   %   % % %   %   %           %     %   %   %         %   %   % % % %',\n",
       " '%%%%% % %%%%%   %%% % %%% % %%% %%%     % % %%% % % %%% % %%%%%%% %%% %%% % % % %',\n",
       " '%         %     %   % %   % %   %   %   %   %     %     %   %   % %     % % %   %',\n",
       " '% %%%%%%% % %%%%% %%% % %%% % %%%%%%% %%%%%%%%%%% %%% %%% % % % %%% % %%% % % %%%',\n",
       " '%       % %           % %   %         %         % %   %   % % % %   %     % %   %',\n",
       " '%%% % %%% %%%%% %%%%%%% %%% %    %% %%% %%%%% % %%% % %       % % %%%% %%%% %%% %',\n",
       " '%   %   %     %   %   %       %         %       %   %   % %   %           % %   %',\n",
       " '% % %%% %%%%% % %%% % %%%%% % % %%%%%%%%% %% %%%% % %%%%% %% %%%%%%%%%% %%% % %%%',\n",
       " '% %         % % %   % %   % % %       %   %       % %   %         %     %   % % %',\n",
       " '% % %%% %%%%% % % %%% % % %%% %%%%%%% %%% % %%% % %%% % %% %%%%        %% %%% % %',\n",
       " '%   %   %   % %     % %     %           % %   % % %   %     %     %     %   % % %',\n",
       " '% % %%%%% % % % %%% % % %%% %%% % %%    % %%%%% %%% %%% %%% % %%%%% %%% %%% % % %',\n",
       " '% %       % % %   % %   % %     % %     %     %           % %       % %   % %   %',\n",
       " '% %%% % %%% % %%% % %  %% %%% %%% % %% %%%% % %%%%% %     % %   %% %% %%% % %%% %',\n",
       " '% %   % % %   % % %     %   %     % %       %     % %     %   % %     %   %     %',\n",
       " '%   % % % %   % % %     % % % %%% % % %%%%% %%%%% % % %%%%% % % % %%% % %%% % %%%',\n",
       " '%   % %     %     %     % %   %   % % %     %     % % %     %   %       %   % % %',\n",
       " '%%% %%%% %% % %  %% %% %% % %%% % % % % %%% % %%%%% % % %%%%% %   % % %%% % % % %',\n",
       " '%   %     % % %   % %   %   % % % % % %   % % %     % %   %   %     %   % %     %',\n",
       " '%   % %%% % %%% % % % % % %%% % % % % %%% %%% %% %%%% % % % % % %%%%% % %%% %%% %',\n",
       " '%P      %       % % % %     %   %   %   %             % %   %         %     %   %',\n",
       " '%%%%%%%%%%%%%%%%%%%%%%%%%%%%%%%%%%%%%%%%%%%%%%%%%%%%%%%%%%%%%%%%%%%%%%%%%%%%%%%%%']"
      ]
     },
     "execution_count": 6,
     "metadata": {},
     "output_type": "execute_result"
    }
   ],
   "source": [
    "with open(\"bigMaze.txt\") as f:\n",
    "    for line in f:\n",
    "        bigMaze.append(line.rstrip())\n",
    "bigMaze"
   ]
  },
  {
   "cell_type": "code",
   "execution_count": 7,
   "metadata": {},
   "outputs": [
    {
     "data": {
      "text/plain": [
       "['%%%%%%%%%%%',\n",
       " '%    %.   %',\n",
       " '%    %%%% %',\n",
       " '% P  %    %',\n",
       " '%     .   %',\n",
       " '%%%%%%%%%%%']"
      ]
     },
     "execution_count": 7,
     "metadata": {},
     "output_type": "execute_result"
    }
   ],
   "source": [
    "with open(\"testMaze.txt\") as f:\n",
    "    for line in f:\n",
    "        testMaze.append(line.rstrip())\n",
    "testMaze"
   ]
  },
  {
   "cell_type": "code",
   "execution_count": 8,
   "metadata": {},
   "outputs": [
    {
     "data": {
      "text/plain": [
       "['%%%%%%%%%%%%%%%%%%%%%%%%%%%%%%%%%%%%%%%%%%%%%%%%%',\n",
       " '% .  %.        %             %  .%     % %   %  %',\n",
       " '%    %%%% %%%%%% %  % % %%         %%%%  %. %%% %',\n",
       " '%    %.%    % .% %  % %  %   %   %          %   %',\n",
       " '%   .            %.     %%%% %   %% .%%% %      %',\n",
       " '% %%%%% %%%%%%  %%%% %           .%    %. %%%%%%%',\n",
       " '%.      %   .%       .% %%%  %%%%%%  % %  %   % %',\n",
       " '%%% %%  % %%%%%%% %%%%% %    %  . %% % %    %.% %',\n",
       " '%    %  %      %  %      P% %%       %   %%%% % %',\n",
       " '%.      %   %  %  %     %          %       .%   %',\n",
       " '% % %%%   .% %    %% %% %%% %% %  %.%%%%%%%%%%% %',\n",
       " '%   %    %    %              %    %             %',\n",
       " '%%%%%%%%%%%%%%%%%%%%%%%%%%%%%%%%%%%%%%%%%%%%%%%%%']"
      ]
     },
     "execution_count": 8,
     "metadata": {},
     "output_type": "execute_result"
    }
   ],
   "source": [
    "with open(\"mediumSearch.txt\") as f:\n",
    "    for line in f:\n",
    "        mediumSearch.append(line.rstrip())\n",
    "mediumSearch"
   ]
  },
  {
   "cell_type": "code",
   "execution_count": 9,
   "metadata": {},
   "outputs": [
    {
     "data": {
      "text/plain": [
       "['%%%%%%%%%%%%%%%%%%%%%%%%%%%%%%',\n",
       " '%.     P .     %      .  .   %',\n",
       " '%   %%%%% %%%%%% %  % % %%   %',\n",
       " '%   %  %     %   %  % %  %  .%',\n",
       " '%     .%     .   %.   %  %%%%%',\n",
       " '%%%%% %%%% %%%  %%%%%%%      %',\n",
       " '%.               .    % %%%  %',\n",
       " '%% %%%%%%%% %%%%%%%%%%% %.   %',\n",
       " '%       %               % %%%%',\n",
       " '%       %%%%%     %.         %',\n",
       " '%.% %%%    %  %   %% %% %%%%%%',\n",
       " '%          % .%        .     %',\n",
       " '%%%%%%%%%%%%%%%%%%%%%%%%%%%%%%']"
      ]
     },
     "execution_count": 9,
     "metadata": {},
     "output_type": "execute_result"
    }
   ],
   "source": [
    "with open(\"smallSearch.txt\") as f:\n",
    "    for line in f:\n",
    "        smallSearch.append(line.rstrip())\n",
    "smallSearch"
   ]
  },
  {
   "cell_type": "code",
   "execution_count": 10,
   "metadata": {},
   "outputs": [
    {
     "data": {
      "text/plain": [
       "['%%%%%%%%%%',\n",
       " '%.  %   .%',\n",
       " '% %.% %% %',\n",
       " '% %   .%.%',\n",
       " '% .%P%   %',\n",
       " '%.  .  . %',\n",
       " '% %%%% %.%',\n",
       " '%.    .% %',\n",
       " '%%%%%%%%%%']"
      ]
     },
     "execution_count": 10,
     "metadata": {},
     "output_type": "execute_result"
    }
   ],
   "source": [
    "with open(\"tinySearch.txt\") as f:\n",
    "    for line in f:\n",
    "        tinySearch.append(line.rstrip())\n",
    "tinySearch"
   ]
  },
  {
   "cell_type": "code",
   "execution_count": null,
   "metadata": {},
   "outputs": [],
   "source": [
    "class maze():\n",
    "    \n",
    "#   create a maze with list;\n",
    "    def __init__(self, maze=\"mediumMaze.txt\"):\n",
    "        self.cost = {}\n",
    "        self.raw_list = []\n",
    "        self.maze_list = []\n",
    "        self.nodes = []\n",
    "        self.width = None\n",
    "        self.height = None\n",
    "        self.end = None \n",
    "        self.start = None\n",
    "        self.visited = [] \n",
    "        self.solution = [] # ready for draw;\n",
    "        self.expandedNumber = 0\n",
    "        \n",
    "        with open(maze) as f:\n",
    "            for line in f:\n",
    "                self.raw_list.append(line.rstrip())\n",
    "        self.width = len(self.raw_list[0])\n",
    "        self.height = len(self.raw_list)\n",
    "        \n",
    "        for line in self.raw_list:\n",
    "            for char in line:\n",
    "                if char == \"%\":\n",
    "                    self.maze_list.append(0)\n",
    "                elif char == \".\":\n",
    "#                     self.maze_list.append(\"G\")\n",
    "                    self.maze_list.append(1)\n",
    "                    self.end = (len(self.maze_list)%self.width-1, len(self.maze_list)//self.width)\n",
    "                    self.nodes.append((len(self.maze_list)%self.width-1, len(self.maze_list)//self.width))\n",
    "                elif char == \"P\":\n",
    "#                     self.maze_list.append(\"P\")\n",
    "                    self.maze_list.append(1)\n",
    "                    self.start = ((len(self.maze_list)%self.width-1, len(self.maze_list)//self.width))\n",
    "                    self.nodes.append((len(self.maze_list)%self.width-1, len(self.maze_list)//self.width))\n",
    "                else:\n",
    "                    self.maze_list.append(1)\n",
    "                    self.nodes.append((len(self.maze_list)%self.width-1, len(self.maze_list)//self.width))\n",
    "\n",
    "    def accessMaze(self, x, y): return self.maze_list[self.getPoint(x, y)]    \n",
    "    \n",
    "    def getCordinate(self, point): return (point%self.width, point//self.width)\n",
    "    \n",
    "    def manhattanDistance(self, cur, des): return abs(cur[0] - des[0]) + abs(cur[1] - des[1])\n",
    "    \n",
    "#   Transform the index in the raw_list to the index in the maze_list\n",
    "    def getPoint(self, x, y):\n",
    "        if x < self.width and y < self.height:\n",
    "            return y*self.width + x\n",
    "        else:\n",
    "            print(\"Index out of bound!\")\n",
    "            return False\n",
    "        \n",
    "#   Return the adjacant node who is unvisited and valid\n",
    "    def adjacentList(self, pos):\n",
    "        adjacent = []\n",
    "        x, y = pos\n",
    "        if self.accessMaze(x+1, y) and self.getPoint(x+1, y) not in self.visited:\n",
    "            adjacent.append((x+1, y))\n",
    "        if self.accessMaze(x, y+1) and self.getPoint(x, y+1) not in self.visited:\n",
    "            adjacent.append((x, y+1))\n",
    "        if self.accessMaze(x-1, y) and self.getPoint(x-1, y) not in self.visited:\n",
    "            adjacent.append((x-1, y))\n",
    "        if self.accessMaze(x, y-1) and self.getPoint(x, y-1) not in self.visited:\n",
    "            adjacent.append((x, y-1))\n",
    "        return adjacent\n",
    "    \n",
    "    def countCost(self):\n",
    "        self.cost = {}\n",
    "        for index, cell in enumerate(self.maze_list):\n",
    "            x = index%self.width\n",
    "            y = index//self.width\n",
    "            if not cell:\n",
    "                self.cost[(x,y)] = np.inf\n",
    "            else:\n",
    "                self.cost[(x,y)] = abs(x - self.end[0]) + abs(y - self.end[1])\n",
    "                \n",
    "    def drawSolution(self):\n",
    "        solution = self.raw_list[:] # faster than deep copy;  \n",
    "        for pos in self.solution:\n",
    "            x, y = pos\n",
    "            if self.raw_list[y][x] == \".\":\n",
    "                solution[y] = solution[y][:x] + \"G\" + solution[y][x+1:]\n",
    "            elif self.raw_list[y][x] == \"P\":\n",
    "                solution[y] = solution[y][:x] + \"P\" + solution[y][x+1:]\n",
    "            else:\n",
    "                solution[y] = solution[y][:x] + \".\" + solution[y][x+1:]\n",
    "        return solution\n"
   ]
  }
 ],
 "metadata": {
  "kernelspec": {
   "display_name": "Python 3",
   "language": "python",
   "name": "python3"
  },
  "language_info": {
   "codemirror_mode": {
    "name": "ipython",
    "version": 3
   },
   "file_extension": ".py",
   "mimetype": "text/x-python",
   "name": "python",
   "nbconvert_exporter": "python",
   "pygments_lexer": "ipython3",
   "version": "3.6.4"
  }
 },
 "nbformat": 4,
 "nbformat_minor": 2
}
